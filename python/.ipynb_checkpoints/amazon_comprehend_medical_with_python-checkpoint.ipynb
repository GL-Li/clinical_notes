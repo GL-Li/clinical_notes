{
 "cells": [
  {
   "cell_type": "markdown",
   "metadata": {},
   "source": [
    "# AWS Comprenend Medical with Python\n",
    "\n",
    "**Very important**: \n",
    "\n",
    "- Do not run the cells. It costs money and may overwrite saved data.\n",
    "- Comprehend Medical only accept note string shorter than 20000 charaters. When preparing a dataframe `df` with notes column `note`, filter off those longer notes with: \n",
    "`df = df[df.note.str.len() < 20000]`\n",
    "\n",
    "- Comprehend medical is very expensive. The cost for one entity is  \\\\$0.01. On aveage, there is one entity in 100 characters. So the cost of 1 M character is about $100."
   ]
  },
  {
   "cell_type": "markdown",
   "metadata": {},
   "source": [
    "### Tutorial\n",
    "https://docs.aws.amazon.com/comprehend/latest/dg/get-started-api-med.html\n",
    "\n",
    "#### boto3 documentation\n",
    "https://boto3.amazonaws.com/v1/documentation/api/latest/reference/services/comprehendmedical.html"
   ]
  },
  {
   "cell_type": "markdown",
   "metadata": {},
   "source": [
    "## A quick example\n",
    "Comprehend Medical returns a dictionary of medical entities and other metadata regarding to the request sent to Amazon. Only the medical entities are useful for text analysis."
   ]
  },
  {
   "cell_type": "code",
   "execution_count": null,
   "metadata": {},
   "outputs": [],
   "source": [
    "import boto3\n",
    "client = boto3.client(service_name='comprehendmedical', region_name='us-east-1')\n",
    "result = client.detect_entities_v2(Text= 'cerealx 84 mg daily')"
   ]
  },
  {
   "cell_type": "code",
   "execution_count": 61,
   "metadata": {},
   "outputs": [
    {
     "data": {
      "text/plain": [
       "[{'Id': 0,\n",
       "  'BeginOffset': 0,\n",
       "  'EndOffset': 7,\n",
       "  'Score': 0.8877691626548767,\n",
       "  'Text': 'cerealx',\n",
       "  'Category': 'MEDICATION',\n",
       "  'Type': 'BRAND_NAME',\n",
       "  'Traits': [],\n",
       "  'Attributes': [{'Type': 'DOSAGE',\n",
       "    'Score': 0.9337134957313538,\n",
       "    'RelationshipScore': 0.9995118379592896,\n",
       "    'Id': 1,\n",
       "    'BeginOffset': 8,\n",
       "    'EndOffset': 13,\n",
       "    'Text': '84 mg',\n",
       "    'Traits': []},\n",
       "   {'Type': 'FREQUENCY',\n",
       "    'Score': 0.990627646446228,\n",
       "    'RelationshipScore': 0.9987651109695435,\n",
       "    'Id': 2,\n",
       "    'BeginOffset': 14,\n",
       "    'EndOffset': 19,\n",
       "    'Text': 'daily',\n",
       "    'Traits': []}]}]"
      ]
     },
     "execution_count": 61,
     "metadata": {},
     "output_type": "execute_result"
    }
   ],
   "source": [
    "result['Entities']"
   ]
  },
  {
   "cell_type": "markdown",
   "metadata": {},
   "source": [
    "## Example with one medical note\n",
    "We will extract medical entities from the first note in mtsample dataset."
   ]
  },
  {
   "cell_type": "code",
   "execution_count": null,
   "metadata": {},
   "outputs": [],
   "source": [
    "note = \"SUBJECTIVE: This 23-year-old white female presents with complaint of allergies. She used to have allergies when she lived in Seattle but she thinks they are worse here. In the past, she has tried Claritin, and Zyrtec. Both worked for short time but then seemed to lose effectiveness. She has used Allegra also. She used that last summer and she began using it again two weeks ago. It does not appear to be working very well. She has used over-the-counter sprays but no prescription nasal sprays. She does have asthma but doest not require daily medication for this and does not think it is flaring up.MEDICATIONS: Her only medication currently is Ortho Tri-Cyclen and the Allegra.ALLERGIES: She has no known medicine allergies.OBJECTIVE:Vitals: Weight was 130 pounds and blood pressure 124/78.HEENT: Her throat was mildly erythematous without exudate. Nasal mucosa was erythematous and swollen. Only clear drainage was seen. TMs were clear.Neck: Supple without adenopathy.Lungs: Clear.ASSESSMENT: Allergic rhinitis.PLAN:1. She will try Zyrtec instead of Allegra again. Another option will be to use loratadine. She does not think she has prescription coverage so that might be cheaper.2. Samples of Nasonex two sprays in each nostril given for three weeks. A prescription was written as well.\"\n",
    "mt = client.detect_entities_v2(Text = note)"
   ]
  },
  {
   "cell_type": "markdown",
   "metadata": {},
   "source": [
    "### get bog of words from medical entities of one medical note"
   ]
  },
  {
   "cell_type": "code",
   "execution_count": null,
   "metadata": {},
   "outputs": [],
   "source": [
    "def get_bow(me):\n",
    "    # me: medical entities extracted from Amazon Comprehend Medical aaa[\"Entities\"]\n",
    "    text = [dic[\"Text\"] for dic in me]\n",
    "    traits = [dic[\"Traits\"] for dic in me]  # trait including negation\n",
    "    \n",
    "    negation = []\n",
    "    for ele in traits:\n",
    "        if len(ele) == 0:\n",
    "            negation.append(\"\")\n",
    "        elif len(ele) != 0:\n",
    "            count = 0\n",
    "            for dic in ele:\n",
    "                if dic[\"Name\"] == \"NEGATION\":\n",
    "                    count += 1\n",
    "            if count == 0:\n",
    "                negation.append(\"\")\n",
    "            else:\n",
    "                negation.append(\"-1\")\n",
    "    \n",
    "    # attache \"-1\" to the text if it is negative\n",
    "    bow = [t.replace(\" \", \"-\") + n for t, n in zip(text, negation)]\n",
    "    \n",
    "    return(bow)"
   ]
  },
  {
   "cell_type": "code",
   "execution_count": 58,
   "metadata": {},
   "outputs": [
    {
     "name": "stdout",
     "output_type": "stream",
     "text": [
      "['23', 'allergies', 'Seattle', 'Claritin', 'Zyrtec', 'lose-effectiveness', 'Allegra', 'summer', 'asthma', 'Ortho-Tri-Cyclen', 'Allegra', 'Vitals', 'Weight', 'blood-pressure', 'HEENT', 'throat', 'erythematous', 'exudate-1', 'Nasal-mucosa', 'erythematous', 'swollen', 'clear-drainage', 'TMs', 'TMs-were-clear', 'Neck', 'Supple', 'adenopathy-1', 'Lungs', 'Lungs:-Clear', 'Allergic-rhinitis', 'Zyrtec', 'Allegra', 'loratadine', 'Nasonex']\n"
     ]
    }
   ],
   "source": [
    "print(get_bow(mt[\"Entities\"]))"
   ]
  },
  {
   "cell_type": "markdown",
   "metadata": {},
   "source": [
    "## Try 10 mtsample motes\n",
    "Alway considering cost when using Comprehend Medical."
   ]
  },
  {
   "cell_type": "code",
   "execution_count": null,
   "metadata": {},
   "outputs": [],
   "source": [
    "import pandas as pd\n",
    "dat = pd.read_csv(\"../mtsample_scraped.csv\")"
   ]
  },
  {
   "cell_type": "code",
   "execution_count": null,
   "metadata": {},
   "outputs": [],
   "source": [
    "notes = list(dat.medical_transcription)\n",
    "nn = notes[0:10]"
   ]
  },
  {
   "cell_type": "code",
   "execution_count": null,
   "metadata": {},
   "outputs": [],
   "source": [
    "# do not run this cell, save money\n",
    "mes = []\n",
    "for nt in nn:\n",
    "    me = client.detect_entities_v2(Text = nt)\n",
    "    me = me[\"Entities\"]\n",
    "    mes.append(me)"
   ]
  },
  {
   "cell_type": "code",
   "execution_count": null,
   "metadata": {},
   "outputs": [],
   "source": [
    "# save the entities, it cost real money\n",
    "import json\n",
    "with open(\"comprehend_first_10_cases.txt\", \"w\") as f:\n",
    "    json.dump(mes, f)"
   ]
  },
  {
   "cell_type": "code",
   "execution_count": null,
   "metadata": {},
   "outputs": [],
   "source": [
    "# read the saved file\n",
    "with open(\"comprehend_first_10_cases.txt\", \"r\") as f:\n",
    "    try_10 = json.load(f)"
   ]
  },
  {
   "cell_type": "code",
   "execution_count": 59,
   "metadata": {},
   "outputs": [
    {
     "name": "stdout",
     "output_type": "stream",
     "text": [
      "[['23', 'allergies', 'Seattle', 'Claritin', 'Zyrtec', 'lose-effectiveness', 'Allegra', 'summer', 'asthma', 'Ortho-Tri-Cyclen', 'Allegra', 'Vitals', 'Weight', 'blood-pressure', 'HEENT', 'throat', 'erythematous', 'exudate-1', 'Nasal-mucosa', 'erythematous', 'swollen', 'clear-drainage', 'TMs', 'TMs-were-clear', 'Neck', 'Supple', 'adenopathy-1', 'Lungs', 'Lungs:-Clear', 'Allergic-rhinitis', 'Zyrtec', 'Allegra', 'loratadine', 'Nasonex'], ['34', 'recommendation-of-Emergency-Room', 'medical-records', 'allergic-reaction', 'ABC-Medical-Center', 'perioral-swelling', '05/03/2008', 'ABC-Medical-Center', 'XYZ-Medical-Center', 'renal-failure', 'dialysis', 'allergy-reaction', 'Keflex-1', 'skin', 'skin-cellulitis', 'shunt-infection', 'anaphylactic-1', 'angioedema-reactions-1', 'atenolol', 'blood-pressure-control', 'corticosteroid', 'corticosteroid-therapy', 'antihistamine', 'antihistamine-therapy', 'urticaria', 'renal-failure', 'hypertension', 'renal-failure', 'dialysis', 'hypertension', 'PermCath-insertion', 'peritoneal-dialysis', 'heart', 'heart-disease', 'carcinoma', 'food-allergies', 'hypertension', 'Atenolol', 'sodium-bicarbonate', 'Lovaza', 'Dialyvite', 'Heparin-1', 'thrombocytopenia', 'PHYSICAL-EXAMINATION', 'VITAL-SIGNS', 'Age', 'blood-pressure', 'pulse', 'temperature', 'weight', 'height', 'feet', 'GENERAL', 'healthy-appearing', 'alert-and-oriented-to-person,-place-and-time', 'responds-appropriately', 'distress-1', 'HEAD', 'Normocephalic', 'masses-1', 'lesions-1', 'FACE', 'facial-tenderness-1', 'asymmetry-1', 'EYES', 'Pupils', 'equal', 'round', 'reactive-to-light-and-accommodation', 'Extraocular-movements-are-intact', 'EARS', 'tympanic-membranes', 'tympanic-membranes-are-intact', 'good-light-reflex', 'external-auditory-canals-are-clear', 'auditory-canals', 'lesions-1', 'masses-1', 'Rinne-tests', 'NOSE', 'nasal-cavities', 'nasal-cavities-are-patent', 'nasal-septum', 'nasal-septum-is-midline', 'nasal-discharges-1', 'masses-1', 'lesions-1', 'THROAT', 'oral-mucosa', 'oral-mucosa-appears-healthy', 'Dental-hygiene-is-maintained-well', 'oropharyngeal-masses-1', 'lesions-1', 'postnasal-drip-1', 'NECK', 'neck', 'neck-is-supple', 'adenopathy-1', 'masses-1', 'trachea', 'trachea-is-midline', 'thyroid-gland', 'thyroid-gland-is-of-normal-size', 'nodules-1', 'NEUROLOGIC', 'Facial-nerve', 'Facial-nerve-is-intact', 'cranial-nerves', 'cranial-nerves-are-intact', 'focal-deficit-1', 'LUNGS', 'Clear-to-auscultation', 'wheeze-1', 'HEART', 'Regular-rate-and-rhythm', 'murmur-1', 'allergic-reaction', 'Keflex', 'Renal-failure', 'dialysis', 'Hypertension', 'RAST-allergy-testing', 'cephalosporin-1', 'cephalosporin-antibiotics', 'antibiotics-1', 'allergic-reaction', 'atenolol', 'anaphylaxis', 'allergic-reactions', 'EpiPen-1', 'angioedema', 'allergic-reaction', 'sensation-of-impending-allergic-reaction', 'emergency-room', 'EpiPen']]\n"
     ]
    }
   ],
   "source": [
    "# get the bag of words\n",
    "bows =[]\n",
    "for me in try_10:\n",
    "    bows.append(get_bow(me))\n",
    "\n",
    "print(bows[0:2])"
   ]
  },
  {
   "cell_type": "markdown",
   "metadata": {},
   "source": [
    "## Download comprehend medical data for Gastroenterology and neurology cases\n",
    "Start from very beginning. "
   ]
  },
  {
   "cell_type": "code",
   "execution_count": null,
   "metadata": {},
   "outputs": [],
   "source": [
    "import pandas as pd\n",
    "import numpy as np\n",
    "from tqdm import tqdm\n",
    "dat = pd.read_csv(\"../mtsample_scraped.csv\")"
   ]
  },
  {
   "cell_type": "code",
   "execution_count": null,
   "metadata": {},
   "outputs": [],
   "source": [
    "# save the selected data for future reproducible work\n",
    "dat_gas_neu = dat.query('sample_type in [\"Gastroenterology\", \"Neurology\"]')\n",
    "dat_gas_neu = dat_gas_neu[dat_gas_neu.medical_transcription.str.len() < 20000] # remove notes longer than 2000\n",
    "dat_gas_neu.to_csv(\"mtsample_gastroenterology_neurology.csv\", index=False)"
   ]
  },
  {
   "cell_type": "code",
   "execution_count": 65,
   "metadata": {},
   "outputs": [
    {
     "data": {
      "text/plain": [
       "(451, 6)"
      ]
     },
     "execution_count": 65,
     "metadata": {},
     "output_type": "execute_result"
    }
   ],
   "source": [
    "dat_gas_neu = pd.read_csv(\"mtsample_gastroenterology_neurology.csv\")\n",
    "gas_neu_notes = list(dat_gas_neu.medical_transcription)\n",
    "dat_gas_neu.shape"
   ]
  },
  {
   "cell_type": "code",
   "execution_count": null,
   "metadata": {},
   "outputs": [],
   "source": [
    "# Do not run, very expensive\n",
    "# download and save result\n",
    "mes = []\n",
    "for nt in tqdm(gas_neu_notes):\n",
    "    me = client.detect_entities_v2(Text = nt)\n",
    "    me = me[\"Entities\"]\n",
    "    mes.append(me)"
   ]
  },
  {
   "cell_type": "code",
   "execution_count": null,
   "metadata": {},
   "outputs": [],
   "source": [
    "# save the entities, it cost real money\n",
    "import json\n",
    "with open(\"comprehend_medical_neurology_gastroenterology.txt\", \"w\") as f:\n",
    "    json.dump(mes, f)"
   ]
  },
  {
   "cell_type": "code",
   "execution_count": 66,
   "metadata": {},
   "outputs": [
    {
     "data": {
      "text/plain": [
       "451"
      ]
     },
     "execution_count": 66,
     "metadata": {},
     "output_type": "execute_result"
    }
   ],
   "source": [
    "# load comprehend_medical\n",
    "with open(\"comprehend_medical_neurology_gastroenterology.txt\", \"r\") as f:\n",
    "    aaa = json.load(f)\n",
    "len(aaa)"
   ]
  }
 ],
 "metadata": {
  "kernelspec": {
   "display_name": "Python 3",
   "language": "python",
   "name": "python3"
  },
  "language_info": {
   "codemirror_mode": {
    "name": "ipython",
    "version": 3
   },
   "file_extension": ".py",
   "mimetype": "text/x-python",
   "name": "python",
   "nbconvert_exporter": "python",
   "pygments_lexer": "ipython3",
   "version": "3.7.4"
  }
 },
 "nbformat": 4,
 "nbformat_minor": 2
}
