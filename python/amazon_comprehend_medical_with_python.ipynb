{
 "cells": [
  {
   "cell_type": "markdown",
   "metadata": {},
   "source": [
    "# AWS Comprenend Medical with Python\n",
    "\n",
    "**Very important**: \n",
    "\n",
    "- Do not run the cells. It costs money and may overwrite saved data.\n",
    "- Comprehend Medical only accept note string shorter than 20000 charaters. When preparing a dataframe `df` with notes column `note`, filter off those longer notes with: \n",
    "`df = df[df.note.str.len() < 20000]`\n",
    "\n",
    "- Comprehend medical is very expensive. The cost for one entity is  \\\\$0.01. On aveage, there is one entity in 100 characters. So the cost of 1 M character is about $100."
   ]
  },
  {
   "cell_type": "markdown",
   "metadata": {},
   "source": [
    "### Tutorial\n",
    "https://docs.aws.amazon.com/comprehend/latest/dg/get-started-api-med.html\n",
    "\n",
    "#### boto3 documentation\n",
    "https://boto3.amazonaws.com/v1/documentation/api/latest/reference/services/comprehendmedical.html"
   ]
  },
  {
   "cell_type": "markdown",
   "metadata": {},
   "source": [
    "## A quick example\n",
    "Comprehend Medical returns a dictionary of medical entities and other metadata regarding to the request sent to Amazon. Only the medical entities are useful for text analysis."
   ]
  },
  {
   "cell_type": "code",
   "execution_count": null,
   "metadata": {},
   "outputs": [],
   "source": [
    "import boto3\n",
    "client = boto3.client(service_name='comprehendmedical', region_name='us-east-1')\n",
    "result = client.detect_entities_v2(Text= 'cerealx 84 mg daily')"
   ]
  },
  {
   "cell_type": "code",
   "execution_count": 61,
   "metadata": {},
   "outputs": [
    {
     "data": {
      "text/plain": [
       "[{'Id': 0,\n",
       "  'BeginOffset': 0,\n",
       "  'EndOffset': 7,\n",
       "  'Score': 0.8877691626548767,\n",
       "  'Text': 'cerealx',\n",
       "  'Category': 'MEDICATION',\n",
       "  'Type': 'BRAND_NAME',\n",
       "  'Traits': [],\n",
       "  'Attributes': [{'Type': 'DOSAGE',\n",
       "    'Score': 0.9337134957313538,\n",
       "    'RelationshipScore': 0.9995118379592896,\n",
       "    'Id': 1,\n",
       "    'BeginOffset': 8,\n",
       "    'EndOffset': 13,\n",
       "    'Text': '84 mg',\n",
       "    'Traits': []},\n",
       "   {'Type': 'FREQUENCY',\n",
       "    'Score': 0.990627646446228,\n",
       "    'RelationshipScore': 0.9987651109695435,\n",
       "    'Id': 2,\n",
       "    'BeginOffset': 14,\n",
       "    'EndOffset': 19,\n",
       "    'Text': 'daily',\n",
       "    'Traits': []}]}]"
      ]
     },
     "execution_count": 61,
     "metadata": {},
     "output_type": "execute_result"
    }
   ],
   "source": [
    "result['Entities']"
   ]
  },
  {
   "cell_type": "markdown",
   "metadata": {},
   "source": [
    "## Example with one medical note\n",
    "We will extract medical entities from the first note in mtsample dataset."
   ]
  },
  {
   "cell_type": "code",
   "execution_count": null,
   "metadata": {},
   "outputs": [],
   "source": [
    "note = \"SUBJECTIVE: This 23-year-old white female presents with complaint of allergies. She used to have allergies when she lived in Seattle but she thinks they are worse here. In the past, she has tried Claritin, and Zyrtec. Both worked for short time but then seemed to lose effectiveness. She has used Allegra also. She used that last summer and she began using it again two weeks ago. It does not appear to be working very well. She has used over-the-counter sprays but no prescription nasal sprays. She does have asthma but doest not require daily medication for this and does not think it is flaring up.MEDICATIONS: Her only medication currently is Ortho Tri-Cyclen and the Allegra.ALLERGIES: She has no known medicine allergies.OBJECTIVE:Vitals: Weight was 130 pounds and blood pressure 124/78.HEENT: Her throat was mildly erythematous without exudate. Nasal mucosa was erythematous and swollen. Only clear drainage was seen. TMs were clear.Neck: Supple without adenopathy.Lungs: Clear.ASSESSMENT: Allergic rhinitis.PLAN:1. She will try Zyrtec instead of Allegra again. Another option will be to use loratadine. She does not think she has prescription coverage so that might be cheaper.2. Samples of Nasonex two sprays in each nostril given for three weeks. A prescription was written as well.\"\n",
    "mt = client.detect_entities_v2(Text = note)"
   ]
  },
  {
   "cell_type": "markdown",
   "metadata": {},
   "source": [
    "### get bog of words from medical entities of one medical note"
   ]
  },
  {
   "cell_type": "code",
   "execution_count": 4,
   "metadata": {},
   "outputs": [],
   "source": [
    "def get_bow(me):\n",
    "    # me: medical entities extracted from Amazon Comprehend Medical aaa[\"Entities\"]\n",
    "    text = [dic[\"Text\"] for dic in me]\n",
    "    traits = [dic[\"Traits\"] for dic in me]  # trait including negation\n",
    "    \n",
    "    negation = []\n",
    "    for ele in traits:\n",
    "        if len(ele) == 0:\n",
    "            negation.append(\"\")\n",
    "        elif len(ele) != 0:\n",
    "            count = 0\n",
    "            for dic in ele:\n",
    "                if dic[\"Name\"] == \"NEGATION\":\n",
    "                    count += 1\n",
    "            if count == 0:\n",
    "                negation.append(\"\")\n",
    "            else:\n",
    "                negation.append(\"-1\")\n",
    "    \n",
    "    # attache \"-1\" to the text if it is negative\n",
    "    bow = [t.replace(\" \", \"-\") + n for t, n in zip(text, negation)]\n",
    "    \n",
    "    return(bow)"
   ]
  },
  {
   "cell_type": "code",
   "execution_count": 58,
   "metadata": {},
   "outputs": [
    {
     "name": "stdout",
     "output_type": "stream",
     "text": [
      "['23', 'allergies', 'Seattle', 'Claritin', 'Zyrtec', 'lose-effectiveness', 'Allegra', 'summer', 'asthma', 'Ortho-Tri-Cyclen', 'Allegra', 'Vitals', 'Weight', 'blood-pressure', 'HEENT', 'throat', 'erythematous', 'exudate-1', 'Nasal-mucosa', 'erythematous', 'swollen', 'clear-drainage', 'TMs', 'TMs-were-clear', 'Neck', 'Supple', 'adenopathy-1', 'Lungs', 'Lungs:-Clear', 'Allergic-rhinitis', 'Zyrtec', 'Allegra', 'loratadine', 'Nasonex']\n"
     ]
    }
   ],
   "source": [
    "print(get_bow(mt[\"Entities\"]))"
   ]
  },
  {
   "cell_type": "markdown",
   "metadata": {},
   "source": [
    "## Try 10 mtsample motes\n",
    "Alway considering cost when using Comprehend Medical."
   ]
  },
  {
   "cell_type": "code",
   "execution_count": null,
   "metadata": {},
   "outputs": [],
   "source": [
    "import pandas as pd\n",
    "dat = pd.read_csv(\"../mtsample_scraped.csv\")"
   ]
  },
  {
   "cell_type": "code",
   "execution_count": null,
   "metadata": {},
   "outputs": [],
   "source": [
    "notes = list(dat.medical_transcription)\n",
    "nn = notes[0:10]"
   ]
  },
  {
   "cell_type": "code",
   "execution_count": null,
   "metadata": {},
   "outputs": [],
   "source": [
    "# do not run this cell, save money\n",
    "mes = []\n",
    "for nt in nn:\n",
    "    me = client.detect_entities_v2(Text = nt)\n",
    "    me = me[\"Entities\"]\n",
    "    mes.append(me)"
   ]
  },
  {
   "cell_type": "code",
   "execution_count": null,
   "metadata": {},
   "outputs": [],
   "source": [
    "# save the entities, it cost real money\n",
    "import json\n",
    "with open(\"comprehend_first_10_cases.txt\", \"w\") as f:\n",
    "    json.dump(mes, f)"
   ]
  },
  {
   "cell_type": "code",
   "execution_count": null,
   "metadata": {},
   "outputs": [],
   "source": [
    "# read the saved file\n",
    "with open(\"comprehend_first_10_cases.txt\", \"r\") as f:\n",
    "    try_10 = json.load(f)"
   ]
  },
  {
   "cell_type": "code",
   "execution_count": 59,
   "metadata": {},
   "outputs": [
    {
     "name": "stdout",
     "output_type": "stream",
     "text": [
      "[['23', 'allergies', 'Seattle', 'Claritin', 'Zyrtec', 'lose-effectiveness', 'Allegra', 'summer', 'asthma', 'Ortho-Tri-Cyclen', 'Allegra', 'Vitals', 'Weight', 'blood-pressure', 'HEENT', 'throat', 'erythematous', 'exudate-1', 'Nasal-mucosa', 'erythematous', 'swollen', 'clear-drainage', 'TMs', 'TMs-were-clear', 'Neck', 'Supple', 'adenopathy-1', 'Lungs', 'Lungs:-Clear', 'Allergic-rhinitis', 'Zyrtec', 'Allegra', 'loratadine', 'Nasonex'], ['34', 'recommendation-of-Emergency-Room', 'medical-records', 'allergic-reaction', 'ABC-Medical-Center', 'perioral-swelling', '05/03/2008', 'ABC-Medical-Center', 'XYZ-Medical-Center', 'renal-failure', 'dialysis', 'allergy-reaction', 'Keflex-1', 'skin', 'skin-cellulitis', 'shunt-infection', 'anaphylactic-1', 'angioedema-reactions-1', 'atenolol', 'blood-pressure-control', 'corticosteroid', 'corticosteroid-therapy', 'antihistamine', 'antihistamine-therapy', 'urticaria', 'renal-failure', 'hypertension', 'renal-failure', 'dialysis', 'hypertension', 'PermCath-insertion', 'peritoneal-dialysis', 'heart', 'heart-disease', 'carcinoma', 'food-allergies', 'hypertension', 'Atenolol', 'sodium-bicarbonate', 'Lovaza', 'Dialyvite', 'Heparin-1', 'thrombocytopenia', 'PHYSICAL-EXAMINATION', 'VITAL-SIGNS', 'Age', 'blood-pressure', 'pulse', 'temperature', 'weight', 'height', 'feet', 'GENERAL', 'healthy-appearing', 'alert-and-oriented-to-person,-place-and-time', 'responds-appropriately', 'distress-1', 'HEAD', 'Normocephalic', 'masses-1', 'lesions-1', 'FACE', 'facial-tenderness-1', 'asymmetry-1', 'EYES', 'Pupils', 'equal', 'round', 'reactive-to-light-and-accommodation', 'Extraocular-movements-are-intact', 'EARS', 'tympanic-membranes', 'tympanic-membranes-are-intact', 'good-light-reflex', 'external-auditory-canals-are-clear', 'auditory-canals', 'lesions-1', 'masses-1', 'Rinne-tests', 'NOSE', 'nasal-cavities', 'nasal-cavities-are-patent', 'nasal-septum', 'nasal-septum-is-midline', 'nasal-discharges-1', 'masses-1', 'lesions-1', 'THROAT', 'oral-mucosa', 'oral-mucosa-appears-healthy', 'Dental-hygiene-is-maintained-well', 'oropharyngeal-masses-1', 'lesions-1', 'postnasal-drip-1', 'NECK', 'neck', 'neck-is-supple', 'adenopathy-1', 'masses-1', 'trachea', 'trachea-is-midline', 'thyroid-gland', 'thyroid-gland-is-of-normal-size', 'nodules-1', 'NEUROLOGIC', 'Facial-nerve', 'Facial-nerve-is-intact', 'cranial-nerves', 'cranial-nerves-are-intact', 'focal-deficit-1', 'LUNGS', 'Clear-to-auscultation', 'wheeze-1', 'HEART', 'Regular-rate-and-rhythm', 'murmur-1', 'allergic-reaction', 'Keflex', 'Renal-failure', 'dialysis', 'Hypertension', 'RAST-allergy-testing', 'cephalosporin-1', 'cephalosporin-antibiotics', 'antibiotics-1', 'allergic-reaction', 'atenolol', 'anaphylaxis', 'allergic-reactions', 'EpiPen-1', 'angioedema', 'allergic-reaction', 'sensation-of-impending-allergic-reaction', 'emergency-room', 'EpiPen']]\n"
     ]
    }
   ],
   "source": [
    "# get the bag of words\n",
    "bows =[]\n",
    "for me in try_10:\n",
    "    bows.append(get_bow(me))\n",
    "\n",
    "print(bows[0:2])"
   ]
  },
  {
   "cell_type": "markdown",
   "metadata": {},
   "source": [
    "## Download comprehend medical data for Gastroenterology and neurology cases\n",
    "Start from very beginning. "
   ]
  },
  {
   "cell_type": "code",
   "execution_count": 1,
   "metadata": {},
   "outputs": [],
   "source": [
    "import pandas as pd\n",
    "import numpy as np\n",
    "import json\n",
    "from tqdm import tqdm\n",
    "dat = pd.read_csv(\"../mtsample_scraped.csv\")"
   ]
  },
  {
   "cell_type": "code",
   "execution_count": 13,
   "metadata": {},
   "outputs": [],
   "source": [
    "# save the selected data for future reproducible work\n",
    "dat_gas_neu = dat.query('sample_type in [\"Gastroenterology\", \"Neurology\"]')\n",
    "dat_gas_neu = dat_gas_neu[dat_gas_neu.medical_transcription.str.len() < 20000] # remove notes longer than 2000\n",
    "dat_gas_neu[\"id\"] = range(1, dat_gas_neu.shape[0] + 1)\n",
    "selected = dat_gas_neu[[\"id\", \"sample_type\", \"medical_transcription\"]]\n",
    "selected.columns = [\"id\", \"sample_type\", \"medical_note\"]\n",
    "selected.to_csv(\"mtsample_gastroenterology_neurology.csv\", index=False)"
   ]
  },
  {
   "cell_type": "code",
   "execution_count": 10,
   "metadata": {},
   "outputs": [
    {
     "data": {
      "text/html": [
       "<div>\n",
       "<style scoped>\n",
       "    .dataframe tbody tr th:only-of-type {\n",
       "        vertical-align: middle;\n",
       "    }\n",
       "\n",
       "    .dataframe tbody tr th {\n",
       "        vertical-align: top;\n",
       "    }\n",
       "\n",
       "    .dataframe thead th {\n",
       "        text-align: right;\n",
       "    }\n",
       "</style>\n",
       "<table border=\"1\" class=\"dataframe\">\n",
       "  <thead>\n",
       "    <tr style=\"text-align: right;\">\n",
       "      <th></th>\n",
       "      <th>id</th>\n",
       "      <th>sample_type</th>\n",
       "      <th>medical_note</th>\n",
       "    </tr>\n",
       "  </thead>\n",
       "  <tbody>\n",
       "    <tr>\n",
       "      <td>1328</td>\n",
       "      <td>1</td>\n",
       "      <td>Gastroenterology</td>\n",
       "      <td>PREOPERATIVE DIAGNOSIS: Abdominal wall abscess...</td>\n",
       "    </tr>\n",
       "    <tr>\n",
       "      <td>1329</td>\n",
       "      <td>2</td>\n",
       "      <td>Gastroenterology</td>\n",
       "      <td>PREOPERATIVE DIAGNOSES: 1. Congenital chylous ...</td>\n",
       "    </tr>\n",
       "    <tr>\n",
       "      <td>1330</td>\n",
       "      <td>3</td>\n",
       "      <td>Gastroenterology</td>\n",
       "      <td>CHIEF COMPLAINT: Abdominal pain.HISTORY OF PRE...</td>\n",
       "    </tr>\n",
       "    <tr>\n",
       "      <td>1331</td>\n",
       "      <td>4</td>\n",
       "      <td>Gastroenterology</td>\n",
       "      <td>PREOPERATIVE DIAGNOSIS: Recurrent re-infected ...</td>\n",
       "    </tr>\n",
       "    <tr>\n",
       "      <td>1332</td>\n",
       "      <td>5</td>\n",
       "      <td>Gastroenterology</td>\n",
       "      <td>CHIEF COMPLAINT: Nausea.PRESENT ILLNESS: The p...</td>\n",
       "    </tr>\n",
       "    <tr>\n",
       "      <td>...</td>\n",
       "      <td>...</td>\n",
       "      <td>...</td>\n",
       "      <td>...</td>\n",
       "    </tr>\n",
       "    <tr>\n",
       "      <td>2259</td>\n",
       "      <td>447</td>\n",
       "      <td>Neurology</td>\n",
       "      <td>TIME SEEN: 0734 hours and 1034 hours.TOTAL REC...</td>\n",
       "    </tr>\n",
       "    <tr>\n",
       "      <td>2260</td>\n",
       "      <td>448</td>\n",
       "      <td>Neurology</td>\n",
       "      <td>DATE OF EXAMINATION: Start: 12/29/2008 at 1859...</td>\n",
       "    </tr>\n",
       "    <tr>\n",
       "      <td>2261</td>\n",
       "      <td>449</td>\n",
       "      <td>Neurology</td>\n",
       "      <td>EEG during wakefulness demonstrates background...</td>\n",
       "    </tr>\n",
       "    <tr>\n",
       "      <td>2262</td>\n",
       "      <td>450</td>\n",
       "      <td>Neurology</td>\n",
       "      <td>PROCEDURE: EEG during wakefulness demonstrates...</td>\n",
       "    </tr>\n",
       "    <tr>\n",
       "      <td>2263</td>\n",
       "      <td>451</td>\n",
       "      <td>Neurology</td>\n",
       "      <td>Doctor's NameDoctor's AddressDear Doctor:This ...</td>\n",
       "    </tr>\n",
       "  </tbody>\n",
       "</table>\n",
       "<p>451 rows × 3 columns</p>\n",
       "</div>"
      ],
      "text/plain": [
       "       id       sample_type                                       medical_note\n",
       "1328    1  Gastroenterology  PREOPERATIVE DIAGNOSIS: Abdominal wall abscess...\n",
       "1329    2  Gastroenterology  PREOPERATIVE DIAGNOSES: 1. Congenital chylous ...\n",
       "1330    3  Gastroenterology  CHIEF COMPLAINT: Abdominal pain.HISTORY OF PRE...\n",
       "1331    4  Gastroenterology  PREOPERATIVE DIAGNOSIS: Recurrent re-infected ...\n",
       "1332    5  Gastroenterology  CHIEF COMPLAINT: Nausea.PRESENT ILLNESS: The p...\n",
       "...   ...               ...                                                ...\n",
       "2259  447         Neurology  TIME SEEN: 0734 hours and 1034 hours.TOTAL REC...\n",
       "2260  448         Neurology  DATE OF EXAMINATION: Start: 12/29/2008 at 1859...\n",
       "2261  449         Neurology  EEG during wakefulness demonstrates background...\n",
       "2262  450         Neurology  PROCEDURE: EEG during wakefulness demonstrates...\n",
       "2263  451         Neurology  Doctor's NameDoctor's AddressDear Doctor:This ...\n",
       "\n",
       "[451 rows x 3 columns]"
      ]
     },
     "execution_count": 10,
     "metadata": {},
     "output_type": "execute_result"
    }
   ],
   "source": [
    "selected"
   ]
  },
  {
   "cell_type": "code",
   "execution_count": 65,
   "metadata": {},
   "outputs": [
    {
     "data": {
      "text/plain": [
       "(451, 6)"
      ]
     },
     "execution_count": 65,
     "metadata": {},
     "output_type": "execute_result"
    }
   ],
   "source": [
    "dat_gas_neu = pd.read_csv(\"mtsample_gastroenterology_neurology.csv\")\n",
    "gas_neu_notes = list(dat_gas_neu.medical_note)\n",
    "dat_gas_neu.shape"
   ]
  },
  {
   "cell_type": "code",
   "execution_count": null,
   "metadata": {},
   "outputs": [],
   "source": [
    "# Do not run, very expensive\n",
    "# download and save result\n",
    "mes = []\n",
    "for nt in tqdm(gas_neu_notes):\n",
    "    me = client.detect_entities_v2(Text = nt)\n",
    "    me = me[\"Entities\"]\n",
    "    mes.append(me)"
   ]
  },
  {
   "cell_type": "code",
   "execution_count": 15,
   "metadata": {},
   "outputs": [
    {
     "ename": "NameError",
     "evalue": "name 'mes' is not defined",
     "output_type": "error",
     "traceback": [
      "\u001b[0;31m---------------------------------------------------------------------------\u001b[0m",
      "\u001b[0;31mNameError\u001b[0m                                 Traceback (most recent call last)",
      "\u001b[0;32m<ipython-input-15-b24349d6810f>\u001b[0m in \u001b[0;36m<module>\u001b[0;34m\u001b[0m\n\u001b[1;32m      2\u001b[0m \u001b[0;32mimport\u001b[0m \u001b[0mjson\u001b[0m\u001b[0;34m\u001b[0m\u001b[0;34m\u001b[0m\u001b[0m\n\u001b[1;32m      3\u001b[0m \u001b[0;32mwith\u001b[0m \u001b[0mopen\u001b[0m\u001b[0;34m(\u001b[0m\u001b[0;34m\"comprehend_medical_neurology_gastroenterology.txt\"\u001b[0m\u001b[0;34m,\u001b[0m \u001b[0;34m\"w\"\u001b[0m\u001b[0;34m)\u001b[0m \u001b[0;32mas\u001b[0m \u001b[0mf\u001b[0m\u001b[0;34m:\u001b[0m\u001b[0;34m\u001b[0m\u001b[0;34m\u001b[0m\u001b[0m\n\u001b[0;32m----> 4\u001b[0;31m     \u001b[0mjson\u001b[0m\u001b[0;34m.\u001b[0m\u001b[0mdump\u001b[0m\u001b[0;34m(\u001b[0m\u001b[0mmes\u001b[0m\u001b[0;34m,\u001b[0m \u001b[0mf\u001b[0m\u001b[0;34m)\u001b[0m\u001b[0;34m\u001b[0m\u001b[0;34m\u001b[0m\u001b[0m\n\u001b[0m",
      "\u001b[0;31mNameError\u001b[0m: name 'mes' is not defined"
     ]
    }
   ],
   "source": [
    "# save the entities, it cost real money\n",
    "import json\n",
    "with open(\"comprehend_medical_neurology_gastroenterology.txt\", \"w\") as f:\n",
    "    json.dump(mes, f)"
   ]
  },
  {
   "cell_type": "code",
   "execution_count": 2,
   "metadata": {},
   "outputs": [
    {
     "data": {
      "text/plain": [
       "451"
      ]
     },
     "execution_count": 2,
     "metadata": {},
     "output_type": "execute_result"
    }
   ],
   "source": [
    "# load comprehend_medical\n",
    "with open(\"comprehend_medical_neurology_gastroenterology.txt\", \"r\") as f:\n",
    "    mes = json.load(f)\n",
    "len(mes)"
   ]
  },
  {
   "cell_type": "code",
   "execution_count": 10,
   "metadata": {},
   "outputs": [],
   "source": [
    "bows =[]\n",
    "for me in mes:\n",
    "    bows.append(\" \".join(get_bow(me)))\n",
    "    \n",
    "bows_amazon_gas_neu = pd.DataFrame({\n",
    "    \"id\" : range(1, len(bows) + 1),\n",
    "    \"amazon_me\" : bows\n",
    "})\n",
    "\n",
    "bows_amazon_gas_neu.to_csv(\"amazon_medical_entities.csv\", index=False)"
   ]
  }
 ],
 "metadata": {
  "kernelspec": {
   "display_name": "Python 3",
   "language": "python",
   "name": "python3"
  },
  "language_info": {
   "codemirror_mode": {
    "name": "ipython",
    "version": 3
   },
   "file_extension": ".py",
   "mimetype": "text/x-python",
   "name": "python",
   "nbconvert_exporter": "python",
   "pygments_lexer": "ipython3",
   "version": "3.7.4"
  }
 },
 "nbformat": 4,
 "nbformat_minor": 2
}
